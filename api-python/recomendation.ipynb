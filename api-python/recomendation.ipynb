{
 "cells": [
  {
   "cell_type": "code",
   "execution_count": 119,
   "id": "0929a8a4-48a7-483a-83f2-40f81ae209eb",
   "metadata": {},
   "outputs": [],
   "source": [
    "import numpy as np\n",
    "import pandas as pd\n",
    "import json"
   ]
  },
  {
   "cell_type": "code",
   "execution_count": 118,
   "id": "3cf77b41-8043-4ab1-8fb4-6fede84fd603",
   "metadata": {},
   "outputs": [],
   "source": [
    "filmes = pd.read_csv('./shared/tmdb_5000_movies.csv')"
   ]
  },
  {
   "cell_type": "code",
   "execution_count": 120,
   "id": "a01786bc-e834-406e-8cbe-99db6091098c",
   "metadata": {},
   "outputs": [],
   "source": [
    "from sklearn.feature_extraction.text import TfidfVectorizer\n",
    "from sklearn.metrics.pairwise import cosine_similarity"
   ]
  },
  {
   "cell_type": "code",
   "execution_count": 122,
   "id": "c4f77d22",
   "metadata": {},
   "outputs": [],
   "source": [
    "filmes.drop_duplicates(subset=['original_title'], keep='first', inplace=True)\n",
    "\n",
    "filmes['overview'] = filmes['overview'].fillna('')\n",
    "filmes['genres'] = filmes['genres'].fillna('')\n",
    "filmes['tagline'] = filmes['tagline'].fillna('')\n",
    "\n",
    "def json_to_text(json_string):\n",
    "    try:\n",
    "        json_dict = json.loads(json_string)\n",
    "        return ' '.join([x['name'] for x in json_dict])\n",
    "    except json.JSONDecodeError:\n",
    "        return ''\n"
   ]
  },
  {
   "cell_type": "code",
   "execution_count": 123,
   "id": "4baa28c7",
   "metadata": {},
   "outputs": [],
   "source": [
    "filmes['keywords'] = filmes['keywords'].apply(json_to_text)"
   ]
  },
  {
   "cell_type": "code",
   "execution_count": 124,
   "id": "06a7a7d8",
   "metadata": {},
   "outputs": [],
   "source": [
    "filmes['genres'] = filmes['genres'].apply(json_to_text)"
   ]
  },
  {
   "cell_type": "code",
   "execution_count": 129,
   "id": "3ea7ffbb",
   "metadata": {},
   "outputs": [
    {
     "data": {
      "text/plain": [
       "0                                                                                                                                                                                                                                                                           Enter the World of Pandora. In the 22nd century, a paraplegic Marine is dispatched to the moon Pandora on a unique mission, but becomes torn between following orders and protecting an alien civilization. Action Adventure Fantasy Science Fiction culture clash future space war space colony society space travel futuristic romance space alien tribe alien planet cgi marine soldier battle love affair anti war power relations mind and soul 3d\n",
       "1                                                                                                                                                                                                                                                                              At the end of the world, the adventure begins. Captain Barbossa, long believed to be dead, has come back to life and is headed to the edge of the Earth with Will Turner and Elizabeth Swann. But nothing is quite as it seems. Adventure Fantasy Action ocean drug abuse exotic island east india trading company love of one's life traitor shipwreck strong woman ship alliance calypso afterlife fighter pirate swashbuckler aftercreditsstinger\n",
       "2                                                                                                                                                                                                                                                                                                                                                    A Plan No One Escapes A cryptic message from Bond’s past sends him on a trail to uncover a sinister organization. While M battles political forces to keep the secret service alive, Bond peels back the layers of deceit to reveal the terrible truth behind SPECTRE. Action Adventure Crime spy based on novel secret agent sequel mi6 british secret service united kingdom\n",
       "3       The Legend Ends Following the death of District Attorney Harvey Dent, Batman assumes responsibility for Dent's crimes to protect the late attorney's reputation and is subsequently hunted by the Gotham City Police Department. Eight years later, Batman encounters the mysterious Selina Kyle and the villainous Bane, a new terrorist leader who overwhelms Gotham's finest. The Dark Knight resurfaces to protect a city that has branded him an enemy. Action Crime Drama Thriller dc comics crime fighter terrorist secret identity burglar hostage drama time bomb gotham city vigilante cover-up superhero villainess tragic hero terrorism destruction catwoman cat burglar imax flood criminal underworld batman\n",
       "4                                                                                                            Lost in our world, found in another. John Carter is a war-weary, former military captain who's inexplicably transported to the mysterious and exotic planet of Barsoom (Mars) and reluctantly becomes embroiled in an epic conflict. It's a world on the brink of collapse, and Carter rediscovers his humanity when he realizes the survival of Barsoom and its people rests in his hands. Action Adventure Science Fiction based on novel mars medallion space travel princess alien steampunk martian escape edgar rice burroughs alien race superhuman strength mars civilization sword and planet 19th century 3d\n",
       "                                                                                                                                                                                                                                                                                                                                                                   ...                                                                                                                                                                                                                                                                                                                                                             \n",
       "4798                                                                                                                                                                                                                  He didn't come looking for trouble, but trouble came looking for him. El Mariachi just wants to play his guitar and carry on the family tradition. Unfortunately, the town he tries to find work in has another visitor...a killer who carries his guns in a guitar case. The drug lord and his henchmen mistake El Mariachi for the killer, Azul, and chase him around town trying to kill him and get his guitar case. Action Crime Thriller united states–mexico barrier legs arms paper knife guitar case\n",
       "4799                                                                                                                                                                                                                                                                                                                                                                                                                                                                                                                                    A newlywed couple's honeymoon is upended by the arrivals of their respective sisters. A newlywed couple's honeymoon is upended by the arrivals of their respective sisters. Comedy Romance \n",
       "4800                                                                                                                                   \"Signed, Sealed, Delivered\" introduces a dedicated quartet of civil servants in the Dead Letter Office of the U.S. Postal System who transform themselves into an elite team of lost-mail detectives. Their determination to deliver the seemingly undeliverable takes them out of the post office into an unpredictable world where letters and packages from the past save lives, solve crimes, reunite old loves, and change futures by arriving late, but always miraculously on time. Comedy Drama Romance TV Movie date love at first sight narration investigation team postal worker\n",
       "4801                                                                                                                                                                                                                                                                      A New Yorker in Shanghai When ambitious New York attorney Sam is sent to Shanghai on assignment, he immediately stumbles into a legal mess that could end his career. With the help of a beautiful relocation specialist, a well-connected old-timer, a clever journalist, and a street-smart legal assistant, Sam might just save his job, find romance, and learn to appreciate the beauty and wonders of Shanghai. Written by Anonymous  (IMDB.com).  \n",
       "4802                                                                                                                                                                                                                                                                                                 Ever since the second grade when he first saw her in E.T. The Extraterrestrial, Brian Herzlinger has had a crush on Drew Barrymore. Now, 20 years later he's decided to try to fulfill his lifelong dream by asking her for a date. There's one small problem: She's Drew Barrymore and he's, well, Brian Herzlinger, a broke 27-year-old aspiring filmmaker from New Jersey. Documentary obsession camcorder crush dream girl\n",
       "Name: infos, Length: 4801, dtype: object"
      ]
     },
     "metadata": {},
     "output_type": "display_data"
    }
   ],
   "source": [
    "# pd.set_option('display.max_colwidth', 10000)\n",
    "\n",
    "#display(filmes['keywords'])\n",
    "\n",
    "filmes['infos'] = filmes['tagline'] + ' ' + filmes['overview'] + ' ' + filmes['genres'] + ' ' + filmes['keywords']\n",
    "\n",
    "display(filmes['infos'])"
   ]
  },
  {
   "cell_type": "code",
   "execution_count": 127,
   "id": "25df2fe7-798e-4ab6-add6-1843a5ea3e4b",
   "metadata": {},
   "outputs": [
    {
     "data": {
      "text/html": [
       "<div>\n",
       "<style scoped>\n",
       "    .dataframe tbody tr th:only-of-type {\n",
       "        vertical-align: middle;\n",
       "    }\n",
       "\n",
       "    .dataframe tbody tr th {\n",
       "        vertical-align: top;\n",
       "    }\n",
       "\n",
       "    .dataframe thead th {\n",
       "        text-align: right;\n",
       "    }\n",
       "</style>\n",
       "<table border=\"1\" class=\"dataframe\">\n",
       "  <thead>\n",
       "    <tr style=\"text-align: right;\">\n",
       "      <th></th>\n",
       "      <th>Thor</th>\n",
       "    </tr>\n",
       "    <tr>\n",
       "      <th>original_title</th>\n",
       "      <th></th>\n",
       "    </tr>\n",
       "  </thead>\n",
       "  <tbody>\n",
       "    <tr>\n",
       "      <th>Thor</th>\n",
       "      <td>1.000000</td>\n",
       "    </tr>\n",
       "    <tr>\n",
       "      <th>Thor: The Dark World</th>\n",
       "      <td>0.513994</td>\n",
       "    </tr>\n",
       "    <tr>\n",
       "      <th>The Avengers</th>\n",
       "      <td>0.215422</td>\n",
       "    </tr>\n",
       "    <tr>\n",
       "      <th>Captain America: Civil War</th>\n",
       "      <td>0.196928</td>\n",
       "    </tr>\n",
       "    <tr>\n",
       "      <th>Iron Man 2</th>\n",
       "      <td>0.193920</td>\n",
       "    </tr>\n",
       "    <tr>\n",
       "      <th>Avengers: Age of Ultron</th>\n",
       "      <td>0.191436</td>\n",
       "    </tr>\n",
       "    <tr>\n",
       "      <th>Ant-Man</th>\n",
       "      <td>0.174812</td>\n",
       "    </tr>\n",
       "    <tr>\n",
       "      <th>Iron Man 3</th>\n",
       "      <td>0.173517</td>\n",
       "    </tr>\n",
       "    <tr>\n",
       "      <th>Captain America: The First Avenger</th>\n",
       "      <td>0.172039</td>\n",
       "    </tr>\n",
       "    <tr>\n",
       "      <th>Iron Man</th>\n",
       "      <td>0.165530</td>\n",
       "    </tr>\n",
       "    <tr>\n",
       "      <th>Fantastic Four</th>\n",
       "      <td>0.163414</td>\n",
       "    </tr>\n",
       "    <tr>\n",
       "      <th>Guardians of the Galaxy</th>\n",
       "      <td>0.163163</td>\n",
       "    </tr>\n",
       "    <tr>\n",
       "      <th>Captain America: The Winter Soldier</th>\n",
       "      <td>0.159104</td>\n",
       "    </tr>\n",
       "    <tr>\n",
       "      <th>The Wolverine</th>\n",
       "      <td>0.154112</td>\n",
       "    </tr>\n",
       "    <tr>\n",
       "      <th>X-Men</th>\n",
       "      <td>0.150989</td>\n",
       "    </tr>\n",
       "    <tr>\n",
       "      <th>X-Men: Apocalypse</th>\n",
       "      <td>0.148363</td>\n",
       "    </tr>\n",
       "    <tr>\n",
       "      <th>X-Men: The Last Stand</th>\n",
       "      <td>0.140971</td>\n",
       "    </tr>\n",
       "    <tr>\n",
       "      <th>The Incredible Hulk</th>\n",
       "      <td>0.140082</td>\n",
       "    </tr>\n",
       "    <tr>\n",
       "      <th>Man of Steel</th>\n",
       "      <td>0.137342</td>\n",
       "    </tr>\n",
       "    <tr>\n",
       "      <th>X-Men: Days of Future Past</th>\n",
       "      <td>0.131414</td>\n",
       "    </tr>\n",
       "  </tbody>\n",
       "</table>\n",
       "</div>"
      ],
      "text/plain": [
       "                                         Thor\n",
       "original_title                               \n",
       "Thor                                 1.000000\n",
       "Thor: The Dark World                 0.513994\n",
       "The Avengers                         0.215422\n",
       "Captain America: Civil War           0.196928\n",
       "Iron Man 2                           0.193920\n",
       "Avengers: Age of Ultron              0.191436\n",
       "Ant-Man                              0.174812\n",
       "Iron Man 3                           0.173517\n",
       "Captain America: The First Avenger   0.172039\n",
       "Iron Man                             0.165530\n",
       "Fantastic Four                       0.163414\n",
       "Guardians of the Galaxy              0.163163\n",
       "Captain America: The Winter Soldier  0.159104\n",
       "The Wolverine                        0.154112\n",
       "X-Men                                0.150989\n",
       "X-Men: Apocalypse                    0.148363\n",
       "X-Men: The Last Stand                0.140971\n",
       "The Incredible Hulk                  0.140082\n",
       "Man of Steel                         0.137342\n",
       "X-Men: Days of Future Past           0.131414"
      ]
     },
     "metadata": {},
     "output_type": "display_data"
    }
   ],
   "source": [
    "vec = TfidfVectorizer(stop_words='english')\n",
    "Tfidf = vec.fit_transform(filmes['infos'].apply(lambda x: np.str_(x)))\n",
    "\n",
    "cosine_sim = cosine_similarity(Tfidf)\n",
    "\n",
    "sim_filmes = pd.DataFrame(cosine_sim, columns=filmes['original_title'], index=filmes['original_title'])\n",
    "\n",
    "recommendations = pd.DataFrame(sim_filmes['Thor'].sort_values(ascending=False))\n",
    "\n",
    "display(recommendations.head(20))"
   ]
  },
  {
   "cell_type": "code",
   "execution_count": null,
   "id": "305c5579-6b8f-4be7-ba61-a4f5151380da",
   "metadata": {},
   "outputs": [],
   "source": []
  }
 ],
 "metadata": {
  "kernelspec": {
   "display_name": "Python 3 (ipykernel)",
   "language": "python",
   "name": "python3"
  },
  "language_info": {
   "codemirror_mode": {
    "name": "ipython",
    "version": 3
   },
   "file_extension": ".py",
   "mimetype": "text/x-python",
   "name": "python",
   "nbconvert_exporter": "python",
   "pygments_lexer": "ipython3",
   "version": "3.10.12"
  }
 },
 "nbformat": 4,
 "nbformat_minor": 5
}
