{
 "cells": [
  {
   "cell_type": "code",
   "execution_count": 2,
   "id": "0929a8a4-48a7-483a-83f2-40f81ae209eb",
   "metadata": {},
   "outputs": [],
   "source": [
    "import numpy as np\n",
    "import pandas as pd\n",
    "import json"
   ]
  },
  {
   "cell_type": "code",
   "execution_count": 3,
   "id": "3cf77b41-8043-4ab1-8fb4-6fede84fd603",
   "metadata": {},
   "outputs": [],
   "source": [
    "filmes = pd.read_csv('./shared/tmdb_5000_movies.csv')"
   ]
  },
  {
   "cell_type": "code",
   "execution_count": 4,
   "id": "a01786bc-e834-406e-8cbe-99db6091098c",
   "metadata": {},
   "outputs": [],
   "source": [
    "from sklearn.feature_extraction.text import TfidfVectorizer\n",
    "from sklearn.metrics.pairwise import cosine_similarity"
   ]
  },
  {
   "cell_type": "code",
   "execution_count": 5,
   "id": "c4f77d22",
   "metadata": {},
   "outputs": [],
   "source": [
    "filmes.drop_duplicates(subset=['original_title'], keep='first', inplace=True)\n",
    "\n",
    "filmes['overview'] = filmes['overview'].fillna('')\n",
    "filmes['genres'] = filmes['genres'].fillna('')\n",
    "filmes['tagline'] = filmes['tagline'].fillna('')\n",
    "\n",
    "def json_to_text(json_string):\n",
    "    try:\n",
    "        json_dict = json.loads(json_string)\n",
    "        return ' '.join([x['name'] for x in json_dict])\n",
    "    except json.JSONDecodeError:\n",
    "        return ''\n"
   ]
  },
  {
   "cell_type": "code",
   "execution_count": 6,
   "id": "4baa28c7",
   "metadata": {},
   "outputs": [],
   "source": [
    "filmes['keywords'] = filmes['keywords'].apply(json_to_text)"
   ]
  },
  {
   "cell_type": "code",
   "execution_count": 7,
   "id": "06a7a7d8",
   "metadata": {},
   "outputs": [],
   "source": [
    "filmes['genres'] = filmes['genres'].apply(json_to_text)"
   ]
  },
  {
   "cell_type": "code",
   "execution_count": 9,
   "id": "3ea7ffbb",
   "metadata": {},
   "outputs": [],
   "source": [
    "# pd.set_option('display.max_colwidth', 10000)\n",
    "\n",
    "#display(filmes['keywords'])\n",
    "\n",
    "filmes['infos'] = filmes['tagline'] + ' ' + filmes['overview'] + ' ' + filmes['genres'] + ' ' + filmes['keywords']\n",
    "\n",
    "#display(filmes['infos'])"
   ]
  },
  {
   "cell_type": "code",
   "execution_count": 10,
   "id": "25df2fe7-798e-4ab6-add6-1843a5ea3e4b",
   "metadata": {},
   "outputs": [
    {
     "data": {
      "text/html": [
       "<div>\n",
       "<style scoped>\n",
       "    .dataframe tbody tr th:only-of-type {\n",
       "        vertical-align: middle;\n",
       "    }\n",
       "\n",
       "    .dataframe tbody tr th {\n",
       "        vertical-align: top;\n",
       "    }\n",
       "\n",
       "    .dataframe thead th {\n",
       "        text-align: right;\n",
       "    }\n",
       "</style>\n",
       "<table border=\"1\" class=\"dataframe\">\n",
       "  <thead>\n",
       "    <tr style=\"text-align: right;\">\n",
       "      <th></th>\n",
       "      <th>Thor</th>\n",
       "    </tr>\n",
       "    <tr>\n",
       "      <th>original_title</th>\n",
       "      <th></th>\n",
       "    </tr>\n",
       "  </thead>\n",
       "  <tbody>\n",
       "    <tr>\n",
       "      <th>Thor</th>\n",
       "      <td>1.000000</td>\n",
       "    </tr>\n",
       "    <tr>\n",
       "      <th>Thor: The Dark World</th>\n",
       "      <td>0.513994</td>\n",
       "    </tr>\n",
       "    <tr>\n",
       "      <th>The Avengers</th>\n",
       "      <td>0.215422</td>\n",
       "    </tr>\n",
       "    <tr>\n",
       "      <th>Captain America: Civil War</th>\n",
       "      <td>0.196928</td>\n",
       "    </tr>\n",
       "    <tr>\n",
       "      <th>Iron Man 2</th>\n",
       "      <td>0.193920</td>\n",
       "    </tr>\n",
       "    <tr>\n",
       "      <th>Avengers: Age of Ultron</th>\n",
       "      <td>0.191436</td>\n",
       "    </tr>\n",
       "    <tr>\n",
       "      <th>Ant-Man</th>\n",
       "      <td>0.174812</td>\n",
       "    </tr>\n",
       "    <tr>\n",
       "      <th>Iron Man 3</th>\n",
       "      <td>0.173517</td>\n",
       "    </tr>\n",
       "    <tr>\n",
       "      <th>Captain America: The First Avenger</th>\n",
       "      <td>0.172039</td>\n",
       "    </tr>\n",
       "    <tr>\n",
       "      <th>Iron Man</th>\n",
       "      <td>0.165530</td>\n",
       "    </tr>\n",
       "    <tr>\n",
       "      <th>Fantastic Four</th>\n",
       "      <td>0.163414</td>\n",
       "    </tr>\n",
       "    <tr>\n",
       "      <th>Guardians of the Galaxy</th>\n",
       "      <td>0.163163</td>\n",
       "    </tr>\n",
       "    <tr>\n",
       "      <th>Captain America: The Winter Soldier</th>\n",
       "      <td>0.159104</td>\n",
       "    </tr>\n",
       "    <tr>\n",
       "      <th>The Wolverine</th>\n",
       "      <td>0.154112</td>\n",
       "    </tr>\n",
       "    <tr>\n",
       "      <th>X-Men</th>\n",
       "      <td>0.150989</td>\n",
       "    </tr>\n",
       "    <tr>\n",
       "      <th>X-Men: Apocalypse</th>\n",
       "      <td>0.148363</td>\n",
       "    </tr>\n",
       "    <tr>\n",
       "      <th>X-Men: The Last Stand</th>\n",
       "      <td>0.140971</td>\n",
       "    </tr>\n",
       "    <tr>\n",
       "      <th>The Incredible Hulk</th>\n",
       "      <td>0.140082</td>\n",
       "    </tr>\n",
       "    <tr>\n",
       "      <th>Man of Steel</th>\n",
       "      <td>0.137342</td>\n",
       "    </tr>\n",
       "    <tr>\n",
       "      <th>X-Men: Days of Future Past</th>\n",
       "      <td>0.131414</td>\n",
       "    </tr>\n",
       "  </tbody>\n",
       "</table>\n",
       "</div>"
      ],
      "text/plain": [
       "                                         Thor\n",
       "original_title                               \n",
       "Thor                                 1.000000\n",
       "Thor: The Dark World                 0.513994\n",
       "The Avengers                         0.215422\n",
       "Captain America: Civil War           0.196928\n",
       "Iron Man 2                           0.193920\n",
       "Avengers: Age of Ultron              0.191436\n",
       "Ant-Man                              0.174812\n",
       "Iron Man 3                           0.173517\n",
       "Captain America: The First Avenger   0.172039\n",
       "Iron Man                             0.165530\n",
       "Fantastic Four                       0.163414\n",
       "Guardians of the Galaxy              0.163163\n",
       "Captain America: The Winter Soldier  0.159104\n",
       "The Wolverine                        0.154112\n",
       "X-Men                                0.150989\n",
       "X-Men: Apocalypse                    0.148363\n",
       "X-Men: The Last Stand                0.140971\n",
       "The Incredible Hulk                  0.140082\n",
       "Man of Steel                         0.137342\n",
       "X-Men: Days of Future Past           0.131414"
      ]
     },
     "metadata": {},
     "output_type": "display_data"
    }
   ],
   "source": [
    "vec = TfidfVectorizer(stop_words='english')\n",
    "Tfidf = vec.fit_transform(filmes['infos'].apply(lambda x: np.str_(x)))\n",
    "\n",
    "cosine_sim = cosine_similarity(Tfidf)\n",
    "\n",
    "sim_filmes = pd.DataFrame(cosine_sim, columns=filmes['original_title'], index=filmes['original_title'])\n",
    "\n",
    "recommendations = pd.DataFrame(sim_filmes['Thor'].sort_values(ascending=False))\n",
    "\n",
    "display(recommendations.head(20))"
   ]
  },
  {
   "cell_type": "code",
   "execution_count": null,
   "id": "305c5579-6b8f-4be7-ba61-a4f5151380da",
   "metadata": {},
   "outputs": [],
   "source": []
  }
 ],
 "metadata": {
  "kernelspec": {
   "display_name": "Python 3 (ipykernel)",
   "language": "python",
   "name": "python3"
  },
  "language_info": {
   "codemirror_mode": {
    "name": "ipython",
    "version": 3
   },
   "file_extension": ".py",
   "mimetype": "text/x-python",
   "name": "python",
   "nbconvert_exporter": "python",
   "pygments_lexer": "ipython3",
   "version": "3.10.12"
  }
 },
 "nbformat": 4,
 "nbformat_minor": 5
}
