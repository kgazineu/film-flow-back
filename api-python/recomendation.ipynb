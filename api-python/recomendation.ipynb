{
 "cells": [
  {
   "cell_type": "code",
   "execution_count": 2,
   "id": "0929a8a4-48a7-483a-83f2-40f81ae209eb",
   "metadata": {},
   "outputs": [],
   "source": [
    "import numpy as np\n",
    "import pandas as pd\n",
    "import json"
   ]
  },
  {
   "cell_type": "code",
   "execution_count": 3,
   "id": "3cf77b41-8043-4ab1-8fb4-6fede84fd603",
   "metadata": {},
   "outputs": [],
   "source": [
    "filmes = pd.read_csv('./shared/tmdb_5000_movies.csv')"
   ]
  },
  {
   "cell_type": "code",
   "execution_count": 4,
   "id": "a01786bc-e834-406e-8cbe-99db6091098c",
   "metadata": {},
   "outputs": [],
   "source": [
    "from sklearn.feature_extraction.text import TfidfVectorizer\n",
    "from sklearn.metrics.pairwise import cosine_similarity"
   ]
  },
  {
   "cell_type": "code",
   "execution_count": 5,
   "id": "c4f77d22",
   "metadata": {},
   "outputs": [],
   "source": [
    "filmes.drop_duplicates(subset=['original_title'], keep='first', inplace=True)\n",
    "\n",
    "filmes['overview'] = filmes['overview'].fillna('')\n",
    "filmes['genres'] = filmes['genres'].fillna('')\n",
    "filmes['tagline'] = filmes['tagline'].fillna('')\n",
    "\n",
    "def json_to_text(json_string):\n",
    "    try:\n",
    "        json_dict = json.loads(json_string)\n",
    "        return ' '.join([x['name'] for x in json_dict])\n",
    "    except json.JSONDecodeError:\n",
    "        return ''\n"
   ]
  },
  {
   "cell_type": "code",
   "execution_count": 6,
   "id": "4baa28c7",
   "metadata": {},
   "outputs": [],
   "source": [
    "filmes['keywords'] = filmes['keywords'].apply(json_to_text)"
   ]
  },
  {
   "cell_type": "code",
   "execution_count": 7,
   "id": "06a7a7d8",
   "metadata": {},
   "outputs": [],
   "source": [
    "filmes['genres'] = filmes['genres'].apply(json_to_text)"
   ]
  },
  {
   "cell_type": "code",
   "execution_count": 8,
   "id": "3ea7ffbb",
   "metadata": {},
   "outputs": [
    {
     "data": {
      "text/plain": [
       "0       Enter the World of Pandora. In the 22nd centur...\n",
       "1       At the end of the world, the adventure begins....\n",
       "2       A Plan No One Escapes A cryptic message from B...\n",
       "3       The Legend Ends Following the death of Distric...\n",
       "4       Lost in our world, found in another. John Cart...\n",
       "                              ...                        \n",
       "4798    He didn't come looking for trouble, but troubl...\n",
       "4799    A newlywed couple's honeymoon is upended by th...\n",
       "4800     \"Signed, Sealed, Delivered\" introduces a dedi...\n",
       "4801    A New Yorker in Shanghai When ambitious New Yo...\n",
       "4802     Ever since the second grade when he first saw...\n",
       "Name: infos, Length: 4801, dtype: object"
      ]
     },
     "metadata": {},
     "output_type": "display_data"
    }
   ],
   "source": [
    "# pd.set_option('display.max_colwidth', 10000)\n",
    "\n",
    "#display(filmes['keywords'])\n",
    "\n",
    "filmes['infos'] = filmes['tagline'] + ' ' + filmes['overview'] + ' ' + filmes['genres'] + ' ' + filmes['keywords']\n",
    "\n",
    "#display(filmes['infos'])"
   ]
  },
  {
   "cell_type": "code",
   "execution_count": 1,
   "id": "25df2fe7-798e-4ab6-add6-1843a5ea3e4b",
   "metadata": {},
   "outputs": [
    {
     "ename": "NameError",
     "evalue": "name 'TfidfVectorizer' is not defined",
     "output_type": "error",
     "traceback": [
      "\u001b[0;31m---------------------------------------------------------------------------\u001b[0m",
      "\u001b[0;31mNameError\u001b[0m                                 Traceback (most recent call last)",
      "Cell \u001b[0;32mIn[1], line 1\u001b[0m\n\u001b[0;32m----> 1\u001b[0m vec \u001b[38;5;241m=\u001b[39m \u001b[43mTfidfVectorizer\u001b[49m(stop_words\u001b[38;5;241m=\u001b[39m\u001b[38;5;124m'\u001b[39m\u001b[38;5;124menglish\u001b[39m\u001b[38;5;124m'\u001b[39m)\n\u001b[1;32m      2\u001b[0m Tfidf \u001b[38;5;241m=\u001b[39m vec\u001b[38;5;241m.\u001b[39mfit_transform(filmes[\u001b[38;5;124m'\u001b[39m\u001b[38;5;124minfos\u001b[39m\u001b[38;5;124m'\u001b[39m]\u001b[38;5;241m.\u001b[39mapply(\u001b[38;5;28;01mlambda\u001b[39;00m x: np\u001b[38;5;241m.\u001b[39mstr_(x)))\n\u001b[1;32m      4\u001b[0m cosine_sim \u001b[38;5;241m=\u001b[39m cosine_similarity(Tfidf)\n",
      "\u001b[0;31mNameError\u001b[0m: name 'TfidfVectorizer' is not defined"
     ]
    }
   ],
   "source": [
    "vec = TfidfVectorizer(stop_words='english')\n",
    "Tfidf = vec.fit_transform(filmes['infos'].apply(lambda x: np.str_(x)))\n",
    "\n",
    "cosine_sim = cosine_similarity(Tfidf)\n",
    "\n",
    "sim_filmes = pd.DataFrame(cosine_sim, columns=filmes['original_title'], index=filmes['original_title'])\n",
    "\n",
    "recommendations = pd.DataFrame(sim_filmes['Thor'].sort_values(ascending=False))\n",
    "\n",
    "display(recommendations.head(20))"
   ]
  },
  {
   "cell_type": "code",
   "execution_count": null,
   "id": "305c5579-6b8f-4be7-ba61-a4f5151380da",
   "metadata": {},
   "outputs": [],
   "source": []
  }
 ],
 "metadata": {
  "kernelspec": {
   "display_name": "Python 3 (ipykernel)",
   "language": "python",
   "name": "python3"
  },
  "language_info": {
   "codemirror_mode": {
    "name": "ipython",
    "version": 3
   },
   "file_extension": ".py",
   "mimetype": "text/x-python",
   "name": "python",
   "nbconvert_exporter": "python",
   "pygments_lexer": "ipython3",
   "version": "3.10.12"
  }
 },
 "nbformat": 4,
 "nbformat_minor": 5
}
